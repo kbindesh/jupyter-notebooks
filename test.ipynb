{
 "cells": [
  {
   "cell_type": "code",
   "execution_count": 6,
   "metadata": {},
   "outputs": [],
   "source": [
    "import boto3"
   ]
  },
  {
   "cell_type": "code",
   "execution_count": 7,
   "metadata": {},
   "outputs": [],
   "source": [
    "# Client initialization\n",
    "iam_client = boto3.client('iam')"
   ]
  },
  {
   "cell_type": "code",
   "execution_count": 8,
   "metadata": {},
   "outputs": [],
   "source": [
    "response = iam_client.list_users()"
   ]
  },
  {
   "cell_type": "code",
   "execution_count": 9,
   "metadata": {},
   "outputs": [
    {
     "name": "stdout",
     "output_type": "stream",
     "text": [
      "{'Users': [{'Path': '/', 'UserName': 'ashish-user', 'UserId': 'AIDASH6MWRSXEWTKE5GEH', 'Arn': 'arn:aws:iam::154511248558:user/ashish-user', 'CreateDate': datetime.datetime(2024, 8, 11, 8, 53, 33, tzinfo=tzutc())}, {'Path': '/', 'UserName': 'awscliuser', 'UserId': 'AIDASH6MWRSXKNMBDKUIS', 'Arn': 'arn:aws:iam::154511248558:user/awscliuser', 'CreateDate': datetime.datetime(2024, 7, 14, 11, 50, 15, tzinfo=tzutc())}, {'Path': '/', 'UserName': 'codecommituser', 'UserId': 'AIDASH6MWRSXHZ6IW3OGN', 'Arn': 'arn:aws:iam::154511248558:user/codecommituser', 'CreateDate': datetime.datetime(2024, 7, 13, 11, 42, 36, tzinfo=tzutc())}], 'IsTruncated': False, 'ResponseMetadata': {'RequestId': '75de37da-86a3-41b4-b1be-1c0abe7c3e7d', 'HTTPStatusCode': 200, 'HTTPHeaders': {'date': 'Fri, 23 Aug 2024 14:50:16 GMT', 'x-amzn-requestid': '75de37da-86a3-41b4-b1be-1c0abe7c3e7d', 'content-type': 'text/xml', 'content-length': '1079'}, 'RetryAttempts': 0}}\n"
     ]
    }
   ],
   "source": [
    "print(response)"
   ]
  },
  {
   "cell_type": "code",
   "execution_count": null,
   "metadata": {},
   "outputs": [],
   "source": []
  }
 ],
 "metadata": {
  "kernelspec": {
   "display_name": "Python 3",
   "language": "python",
   "name": "python3"
  },
  "language_info": {
   "codemirror_mode": {
    "name": "ipython",
    "version": 3
   },
   "file_extension": ".py",
   "mimetype": "text/x-python",
   "name": "python",
   "nbconvert_exporter": "python",
   "pygments_lexer": "ipython3",
   "version": "3.12.2"
  }
 },
 "nbformat": 4,
 "nbformat_minor": 2
}
